{
 "cells": [
  {
   "cell_type": "code",
   "execution_count": 104,
   "id": "4d7fbdb2-9a0b-4ba8-b0cb-172fa7c94eb0",
   "metadata": {},
   "outputs": [
    {
     "data": {
      "text/plain": [
       "<torch._C.Generator at 0x7efcd855a750>"
      ]
     },
     "execution_count": 104,
     "metadata": {},
     "output_type": "execute_result"
    }
   ],
   "source": [
    "import glob\n",
    "import os\n",
    "import os.path as osp\n",
    "import pickle\n",
    "import random\n",
    "import numpy as np\n",
    "import json\n",
    "import torch\n",
    "import torch.nn as nn\n",
    "import torch.optim as optim\n",
    "import torch.utils.data as data\n",
    "import torch.nn.functional as F\n",
    "from torch.utils.data import DataLoader\n",
    "import torchvision\n",
    "from torchvision import models, transforms\n",
    "import matplotlib.pyplot as plt\n",
    "\n",
    "import datasets.dataset as dataset\n",
    "from datasets.dataset import load_data, CLASS_MAP\n",
    "import models.models as models\n",
    "from utils.data_class import BrainDataset\n",
    "import torchio as tio\n",
    "#from models.models import Vgg16, FujiNet1\n",
    "\n",
    "SEED_VALUE = 2481\n",
    "np.random.seed(SEED_VALUE)\n",
    "torch.manual_seed(SEED_VALUE)"
   ]
  },
  {
   "cell_type": "code",
   "execution_count": 105,
   "id": "4a85cdf6-b88c-48c3-86ec-b0364db54de3",
   "metadata": {},
   "outputs": [],
   "source": [
    "#!nvidia-smi"
   ]
  },
  {
   "cell_type": "code",
   "execution_count": 106,
   "id": "3b06e20c-bcaa-4ec2-afdb-c941b11ceefc",
   "metadata": {},
   "outputs": [],
   "source": [
    "os.environ[\"CUDA_VISIBLE_DEVICES\"]=\"6\"\n",
    "#この環境変数は最初に宣言しないと有効にならない"
   ]
  },
  {
   "cell_type": "code",
   "execution_count": 107,
   "id": "d615b513-1d24-4622-93a3-3522ace02b67",
   "metadata": {},
   "outputs": [
    {
     "data": {
      "text/plain": [
       "device(type='cuda')"
      ]
     },
     "execution_count": 107,
     "metadata": {},
     "output_type": "execute_result"
    }
   ],
   "source": [
    "device = torch.device(\"cuda\" if torch.cuda.is_available() else \"cpu\")\n",
    "device"
   ]
  },
  {
   "cell_type": "code",
   "execution_count": 108,
   "id": "f7ecf667-1730-4cce-ab58-9045e822b6a9",
   "metadata": {},
   "outputs": [
    {
     "name": "stderr",
     "output_type": "stream",
     "text": [
      "                                                                                            \r"
     ]
    },
    {
     "data": {
      "text/plain": [
       "255"
      ]
     },
     "execution_count": 108,
     "metadata": {},
     "output_type": "execute_result"
    }
   ],
   "source": [
    "# dataset ADNI2-2, PPMI, OASIS, \n",
    "\n",
    "dataset = load_data(kinds=[\"ADNI2\"], classes=[\"CN\", \"AD\"], unique=True)\n",
    "# dataset = load_data(kinds=[\"PPMI\"], classes=[\"Control\"], unique=True)\n",
    "# dataset = load_data(kinds=[\"OASIS\"], classes=[\"Control\"], unique=True)\n",
    "len(dataset)"
   ]
  },
  {
   "cell_type": "code",
   "execution_count": 109,
   "id": "236b456b-b69e-46af-a0f1-46f8434f5b3f",
   "metadata": {},
   "outputs": [
    {
     "data": {
      "text/plain": [
       "204"
      ]
     },
     "execution_count": 109,
     "metadata": {},
     "output_type": "execute_result"
    }
   ],
   "source": [
    "# trainとtest用の画像を、同じ患者が分かれて入らないように分ける。\n",
    "\n",
    "from sklearn.model_selection import GroupShuffleSplit, train_test_split\n",
    "\n",
    "# train_datadict, val_datadict = train_test_split(dataset, test_size=0.2, shuffle=True, random_state=SEED_VALUE)\n",
    "\n",
    "pids = []\n",
    "for i in range(len(dataset)):\n",
    "    pids.append(dataset[i][\"pid\"])\n",
    "gss = GroupShuffleSplit(test_size=1-0.8, random_state=SEED_VALUE)\n",
    "train_idx, val_idx = list(gss.split(dataset, groups=pids))[0]\n",
    "train_datadict = dataset[train_idx]\n",
    "val_datadict = dataset[val_idx]\n",
    "\n",
    "len(train_datadict)"
   ]
  },
  {
   "cell_type": "code",
   "execution_count": 110,
   "id": "de6fe626-9442-4ee6-9565-f19d91ca692a",
   "metadata": {},
   "outputs": [],
   "source": [
    "# TorchIO\n",
    "class ImageTransformio():\n",
    "    def __init__(self):\n",
    "        self.transform = {\n",
    "            \"train\": tio.Compose([\n",
    "                tio.transforms.RandomAffine(scales=(0.9, 1.2), degrees=10, isotropic=True,\n",
    "                                 center=\"image\", default_pad_value=\"mean\", image_interpolation='linear'),\n",
    "                # tio.transforms.RandomNoise(),\n",
    "                # tio.transforms.RandomBiasField(),\n",
    "                # tio.ZNormalization(),\n",
    "                tio.transforms.RescaleIntensity((0, 1))\n",
    "            ]),\n",
    "            \"val\": tio.Compose([\n",
    "                # tio.ZNormalization(),\n",
    "                # tio.RescaleIntensity((0, 1))  # , in_min_max=(0.1, 255)),\n",
    "            ])\n",
    "        }\n",
    "\n",
    "    def __call__(self, img, phase=\"train\"):\n",
    "        img_t = torch.tensor(img)\n",
    "        return self.transform[phase](img_t)"
   ]
  },
  {
   "cell_type": "code",
   "execution_count": 111,
   "id": "10da6261-5719-4f92-bdda-da78665e6447",
   "metadata": {},
   "outputs": [
    {
     "name": "stdout",
     "output_type": "stream",
     "text": [
      "size of the training dataset =  204\n",
      "size of the validation dataset =  51\n",
      "training image shape = torch.Size([1, 80, 96, 80]), training label = 0\n",
      "test image shape = torch.Size([1, 80, 96, 80]), test label = 0\n"
     ]
    }
   ],
   "source": [
    "# train/val dataset を作成\n",
    "train_dataset = BrainDataset(data_dict=train_datadict, transform=ImageTransformio(), phase=\"train\")\n",
    "val_dataset = BrainDataset(data_dict=val_datadict, transform=ImageTransformio(), phase=\"val\")\n",
    "\n",
    "print(\"size of the training dataset = \", len(train_dataset))\n",
    "print(\"size of the validation dataset = \", len(val_dataset))\n",
    "print(\"training image shape = {}, training label = {}\".format(train_dataset(0)[0].shape, train_dataset(0)[1]))\n",
    "print(\"test image shape = {}, test label = {}\".format(val_dataset(0)[0].shape, val_dataset(0)[1]))"
   ]
  },
  {
   "cell_type": "code",
   "execution_count": 112,
   "id": "4987534f-a790-4ebf-91be-2401c69e9d0b",
   "metadata": {},
   "outputs": [
    {
     "name": "stdout",
     "output_type": "stream",
     "text": [
      "mean= tensor(0.0802)\n",
      "max=1.0 min=0.0\n",
      "0\n"
     ]
    },
    {
     "data": {
      "image/png": "[encoded data removed]",
      "text/plain": [
       "<Figure size 648x216 with 3 Axes>"
      ]
     },
     "metadata": {
      "needs_background": "light"
     },
     "output_type": "display_data"
    },
    {
     "data": {
      "image/png": "[encoded data removed]",
      "text/plain": [
       "<Figure size 648x216 with 3 Axes>"
      ]
     },
     "metadata": {
      "needs_background": "light"
     },
     "output_type": "display_data"
    }
   ],
   "source": [
    "# 画像可視化関数\n",
    "def show_slice(gazo):\n",
    "\n",
    "    def _voxel2slice(voxel: np.array, aspect: str, slice_idx: int) -> np.array:\n",
    "        if aspect == 'sagittal':\n",
    "            slice_img = np.flip(voxel.transpose((0, 2, 1))[slice_idx], 0)\n",
    "        elif aspect == 'coronal':\n",
    "            slice_img = np.flip(voxel.transpose((1, 2, 0))[slice_idx], 0)\n",
    "        elif aspect == 'transverse':\n",
    "            slice_img = np.flip(voxel.transpose((2, 1, 0))[slice_idx], 0)\n",
    "        return slice_img\n",
    "\n",
    "    fig = plt.figure(figsize=(9,3))\n",
    "    trans = fig.add_subplot(1, 3, 1)\n",
    "    trans.set_title(\"transverse\", fontsize=12)\n",
    "    trans.imshow(_voxel2slice(gazo, 'transverse', 50), cmap='gray')\n",
    "    coronal = fig.add_subplot(1, 3, 2)\n",
    "    coronal.set_title(\"coronal\", fontsize=12)\n",
    "    coronal.imshow(_voxel2slice(gazo, 'coronal', 50), cmap='gray')\n",
    "    sagittal = fig.add_subplot(1, 3, 3)\n",
    "    sagittal.set_title(\"sagittal\", fontsize=12)\n",
    "    sagittal.imshow(_voxel2slice(gazo, 'sagittal', 50), cmap='gray')\n",
    "\n",
    "    fig.show()\n",
    "\n",
    "\n",
    "idx = 20\n",
    "img1, label1 = train_dataset(idx)\n",
    "img2, label2 = train_dataset(idx+1)\n",
    "\n",
    "print(\"mean=\", img1.mean())\n",
    "print(f\"max={img1.max()} min={img1.min()}\")\n",
    "print(label1)\n",
    "\n",
    "show_slice(img1.numpy().reshape(80, 96, 80))\n",
    "show_slice(img2.numpy().reshape(80, 96, 80))\n",
    "\n",
    "#imge = np.clip(image, 0, None)\n",
    "# print(img1.numpy().reshape(80, 80, 80).mean())\n",
    "# plt.imshow(np.flip(img1.numpy().reshape(80, 80, 80).transpose(2,0,1)[50],0), cmap=\"gray\")\n",
    "# plt.imshow(np.flip(img2.numpy().reshape(80, 80, 80).transpose(2,0,1)[50],0), cmap=\"gray\")"
   ]
  },
  {
   "cell_type": "code",
   "execution_count": 113,
   "id": "bf9ff28a-9e4e-4d34-9d43-8bdeba7e4b85",
   "metadata": {},
   "outputs": [
    {
     "name": "stdout",
     "output_type": "stream",
     "text": [
      "mean= tensor(0.1568)\n",
      "max=1.0 min=0.0\n",
      "0\n"
     ]
    },
    {
     "name": "stderr",
     "output_type": "stream",
     "text": [
      "No artists with labels found to put in legend.  Note that artists whose label start with an underscore are ignored when legend() is called with no argument.\n"
     ]
    },
    {
     "data": {
      "text/plain": [
       "<matplotlib.legend.Legend at 0x7efc416bd3a0>"
      ]
     },
     "execution_count": 113,
     "metadata": {},
     "output_type": "execute_result"
    },
    {
     "data": {
      "image/png": "[encoded data removed]",
      "text/plain": [
       "<Figure size 432x288 with 1 Axes>"
      ]
     },
     "metadata": {
      "needs_background": "light"
     },
     "output_type": "display_data"
    }
   ],
   "source": [
    "# 画像１枚あたりの輝度値ヒストグラム\n",
    "idx = 20\n",
    "image, label = train_dataset(idx)\n",
    "print(\"mean=\", image.mean())\n",
    "print(f\"max={image.max()} min={image.min()}\")\n",
    "print(label)\n",
    "#imge = np.clip(image, 0, None)\n",
    "show_img = image.numpy().reshape(80*96*80)\n",
    "plt.hist(show_img[show_img > 0.01], bins=255)\n",
    "#plt.title(\"Accuracy\")\n",
    "#plt.xlabel(\"Epoch\")\n",
    "#plt.ylabel(\"Accuracy\")\n",
    "plt.legend()"
   ]
  },
  {
   "cell_type": "code",
   "execution_count": 114,
   "id": "d15f3720-ef18-4f42-89f7-64e70b331266",
   "metadata": {},
   "outputs": [
    {
     "name": "stdout",
     "output_type": "stream",
     "text": [
      "255\n"
     ]
    },
    {
     "data": {
      "text/plain": [
       "(array([202052., 172694., 151746., 138417., 127822., 120465., 112777.,\n",
       "        107473., 102649.,  99161.,  95582.,  92724.,  89344.,  86860.,\n",
       "         83594.,  81014.,  79649.,  78156.,  76775.,  74802.,  74023.,\n",
       "         72905.,  72345.,  70484.,  69943.,  69239.,  68728.,  68115.,\n",
       "         67491.,  67165.,  67318.,  68053.,  67720.,  68201.,  69435.,\n",
       "         70097.,  71726.,  73413.,  75179.,  76855.,  78554.,  80545.,\n",
       "         82244.,  83854.,  85371.,  85829.,  86217.,  86970.,  86560.,\n",
       "         85786.,  85940.,  85783.,  84074.,  83569.,  82192.,  82002.,\n",
       "         81060.,  80743.,  78770.,  78519.,  77187.,  76350.,  75441.,\n",
       "         74922.,  74208.,  73158.,  71882.,  71749.,  71425.,  71623.,\n",
       "         70963.,  70854.,  70710.,  70308.,  69935.,  70368.,  71087.,\n",
       "         70442.,  71023.,  70791.,  70983.,  71354.,  71935.,  72229.,\n",
       "         72745.,  72979.,  73270.,  73919.,  74126.,  74575.,  75461.,\n",
       "         76280.,  76356.,  77325.,  77420.,  78398.,  79319.,  80361.,\n",
       "         81134.,  81891.,  83148.,  84493.,  85683.,  86414.,  87567.,\n",
       "         89220.,  90243.,  90815.,  92901.,  95374.,  96486.,  97933.,\n",
       "         99210., 101022., 103601., 105675., 107567., 109203., 112034.,\n",
       "        113806., 116218., 118413., 121330., 124049., 126436., 129385.,\n",
       "        132276., 135500., 138707., 141965., 143693., 147119., 150349.,\n",
       "        153311., 156659., 159108., 163503., 165100., 167762., 170919.,\n",
       "        174242., 177152., 180416., 183322., 185463., 187990., 190421.,\n",
       "        193164., 194993., 197364., 199479., 201476., 203532., 204483.,\n",
       "        206678., 207553., 208214., 210726., 210926., 212175., 213104.,\n",
       "        214196., 214392., 214288., 215477., 214614., 214571., 214225.,\n",
       "        213510., 214686., 213467., 212708., 212449., 212575., 211612.,\n",
       "        211250., 210488., 209936., 208143., 208602., 207263., 206712.,\n",
       "        206370., 205235., 204067., 205295., 203534., 203817., 203288.,\n",
       "        203292., 203452., 204130., 204860., 204457., 205405., 206628.,\n",
       "        207199., 209285., 210586., 212217., 212923., 216675., 218103.,\n",
       "        221418., 223688., 226893., 230246., 233883., 238528., 243332.,\n",
       "        248897., 253440., 260502., 265984., 272665., 280030., 286079.,\n",
       "        291384., 297413., 300012., 301857., 301648., 299674., 293691.,\n",
       "        285679., 274850., 259735., 242515., 221394., 198687., 176367.,\n",
       "        154697., 133093., 113605.,  94910.,  79040.,  65613.,  53076.,\n",
       "         43335.,  35142.,  28301.,  23336.,  18663.,  14827.,  12046.,\n",
       "          9715.,   7890.,   6364.,   5425.,   4476.,   3812.,   3330.,\n",
       "          2891.,   2655.,   9496.]),\n",
       " array([0.01      , 0.01388235, 0.01776471, 0.02164706, 0.02552941,\n",
       "        0.02941177, 0.03329412, 0.03717647, 0.04105882, 0.04494118,\n",
       "        0.04882353, 0.05270588, 0.05658824, 0.06047059, 0.06435294,\n",
       "        0.06823529, 0.07211765, 0.07600001, 0.07988235, 0.08376471,\n",
       "        0.08764706, 0.09152941, 0.09541176, 0.09929412, 0.10317647,\n",
       "        0.10705882, 0.11094118, 0.11482353, 0.11870588, 0.12258824,\n",
       "        0.1264706 , 0.13035294, 0.1342353 , 0.13811764, 0.142     ,\n",
       "        0.14588235, 0.1497647 , 0.15364707, 0.15752941, 0.16141176,\n",
       "        0.16529413, 0.16917647, 0.17305882, 0.17694117, 0.18082353,\n",
       "        0.18470588, 0.18858823, 0.1924706 , 0.19635294, 0.20023529,\n",
       "        0.20411766, 0.208     , 0.21188235, 0.2157647 , 0.21964706,\n",
       "        0.22352941, 0.22741176, 0.23129413, 0.23517647, 0.23905882,\n",
       "        0.24294117, 0.24682353, 0.2507059 , 0.25458825, 0.2584706 ,\n",
       "        0.26235294, 0.2662353 , 0.27011764, 0.274     , 0.27788237,\n",
       "        0.28176472, 0.28564706, 0.2895294 , 0.29341176, 0.2972941 ,\n",
       "        0.30117646, 0.30505884, 0.3089412 , 0.31282353, 0.31670588,\n",
       "        0.32058823, 0.32447058, 0.32835293, 0.3322353 , 0.33611766,\n",
       "        0.34      , 0.34388235, 0.3477647 , 0.35164705, 0.35552943,\n",
       "        0.35941178, 0.36329412, 0.36717647, 0.37105882, 0.37494117,\n",
       "        0.37882352, 0.3827059 , 0.38658825, 0.3904706 , 0.39435294,\n",
       "        0.3982353 , 0.40211764, 0.406     , 0.40988237, 0.41376472,\n",
       "        0.41764706, 0.4215294 , 0.42541176, 0.4292941 , 0.43317646,\n",
       "        0.43705884, 0.44094118, 0.44482353, 0.44870588, 0.45258823,\n",
       "        0.45647058, 0.46035293, 0.4642353 , 0.46811765, 0.472     ,\n",
       "        0.47588235, 0.4797647 , 0.48364705, 0.48752943, 0.49141178,\n",
       "        0.49529412, 0.49917647, 0.50305885, 0.5069412 , 0.51082355,\n",
       "        0.5147059 , 0.51858824, 0.5224706 , 0.52635294, 0.5302353 ,\n",
       "        0.53411764, 0.538     , 0.54188234, 0.5457647 , 0.54964703,\n",
       "        0.55352944, 0.5574118 , 0.56129414, 0.5651765 , 0.56905884,\n",
       "        0.5729412 , 0.57682353, 0.5807059 , 0.5845882 , 0.5884706 ,\n",
       "        0.5923529 , 0.5962353 , 0.6001176 , 0.604     , 0.6078824 ,\n",
       "        0.6117647 , 0.6156471 , 0.6195294 , 0.6234118 , 0.6272941 ,\n",
       "        0.6311765 , 0.6350588 , 0.63894117, 0.6428235 , 0.64670587,\n",
       "        0.6505882 , 0.65447056, 0.658353  , 0.6622353 , 0.66611767,\n",
       "        0.67      , 0.67388237, 0.6777647 , 0.68164706, 0.6855294 ,\n",
       "        0.68941176, 0.6932941 , 0.69717646, 0.7010588 , 0.70494115,\n",
       "        0.7088235 , 0.7127059 , 0.71658826, 0.7204706 , 0.72435296,\n",
       "        0.7282353 , 0.73211765, 0.736     , 0.73988235, 0.7437647 ,\n",
       "        0.74764705, 0.7515294 , 0.75541174, 0.7592941 , 0.76317644,\n",
       "        0.76705885, 0.7709412 , 0.77482355, 0.7787059 , 0.78258824,\n",
       "        0.7864706 , 0.79035294, 0.7942353 , 0.79811764, 0.802     ,\n",
       "        0.80588233, 0.8097647 , 0.81364703, 0.81752944, 0.8214118 ,\n",
       "        0.82529414, 0.8291765 , 0.83305883, 0.8369412 , 0.84082353,\n",
       "        0.8447059 , 0.8485882 , 0.8524706 , 0.8563529 , 0.8602353 ,\n",
       "        0.8641176 , 0.868     , 0.8718824 , 0.8757647 , 0.8796471 ,\n",
       "        0.8835294 , 0.8874118 , 0.8912941 , 0.8951765 , 0.8990588 ,\n",
       "        0.90294117, 0.9068235 , 0.91070586, 0.9145882 , 0.91847056,\n",
       "        0.92235297, 0.9262353 , 0.93011767, 0.934     , 0.93788236,\n",
       "        0.9417647 , 0.94564706, 0.9495294 , 0.95341176, 0.9572941 ,\n",
       "        0.96117646, 0.9650588 , 0.96894115, 0.9728235 , 0.9767059 ,\n",
       "        0.98058826, 0.9844706 , 0.98835295, 0.9922353 , 0.99611765,\n",
       "        1.        ], dtype=float32),\n",
       " <BarContainer object of 255 artists>)"
      ]
     },
     "execution_count": 114,
     "metadata": {},
     "output_type": "execute_result"
    },
    {
     "data": {
      "image/png": "[encoded data removed]",
      "text/plain": [
       "<Figure size 432x288 with 1 Axes>"
      ]
     },
     "metadata": {
      "needs_background": "light"
     },
     "output_type": "display_data"
    }
   ],
   "source": [
    "image_list = []\n",
    "max = 0.01\n",
    "for image, label in train_dataset:\n",
    "    if max < image.max():\n",
    "        max = image.max()\n",
    "    image_reshape = image.numpy().reshape(80*96*80)\n",
    "    image_list.append(image_reshape)\n",
    "\n",
    "for image, label in val_dataset:\n",
    "    if max < image.max():\n",
    "        max = image.max()\n",
    "    image_reshape = image.numpy().reshape(80*96*80)\n",
    "    image_list.append(image_reshape)\n",
    "print(len(image_list))\n",
    "\n",
    "imagelist = np.concatenate(image_list)\n",
    "plt.title(\"Histogram of intensity rescale=(0, 1), in_min_max=(1, 255)\")\n",
    "plt.xlabel(\"Intensity\")\n",
    "plt.ylabel(\"Number\")\n",
    "plt.hist(imagelist[imagelist > 0.01], bins=255)"
   ]
  },
  {
   "cell_type": "code",
   "execution_count": 115,
   "id": "5aa765b1-c594-40a2-a3d9-c72b4a8515f7",
   "metadata": {},
   "outputs": [
    {
     "name": "stdout",
     "output_type": "stream",
     "text": [
      "tensor(1.)\n"
     ]
    }
   ],
   "source": [
    "print(max)"
   ]
  },
  {
   "cell_type": "code",
   "execution_count": 116,
   "id": "7c96c972-8cd9-45be-9e61-214d34ab5a5d",
   "metadata": {},
   "outputs": [
    {
     "name": "stdout",
     "output_type": "stream",
     "text": [
      "0.6190846597288374\n"
     ]
    }
   ],
   "source": [
    "# 画像の定量評価\n",
    "from skimage.metrics import structural_similarity as ssim\n",
    "from skimage.metrics import mean_squared_error\n",
    "\n",
    "idx = 20\n",
    "img1, label1 = train_dataset(idx)\n",
    "img2, label2 = train_dataset(idx+1)\n",
    "img1 = np.flip(img1.numpy().reshape(80, 96, 80).transpose(2,0,1)[50],0)\n",
    "img2 = np.flip(img2.numpy().reshape(80, 96, 80).transpose(2,0,1)[50],0)\n",
    "\n",
    "mse_none = mean_squared_error(img1, img2)\n",
    "ssim_none = ssim(img1, img2)\n",
    "\n",
    "print(ssim_none)"
   ]
  },
  {
   "cell_type": "code",
   "execution_count": 117,
   "id": "d5e6ea07-9c15-4132-947f-1c5822a75394",
   "metadata": {},
   "outputs": [
    {
     "name": "stdout",
     "output_type": "stream",
     "text": [
      "tensor([0, 1, 1, 0, 1, 0, 0, 1, 0, 0, 0, 0, 1, 0, 0, 0])\n",
      "tensor([0, 0, 0, 0, 0, 1, 1, 0, 1, 1, 0, 1, 0, 0, 1, 1])\n",
      "tensor([1, 1, 0, 0, 0, 1, 0, 0, 0, 0, 0, 0, 0, 0, 0, 1])\n",
      "tensor([1, 0, 0, 1, 0, 0, 0, 0, 1, 1, 1, 0, 1, 0, 1, 0])\n",
      "tensor([0, 0, 1, 0, 1, 1, 0, 0, 1, 1, 1, 1, 0, 0, 1, 0])\n",
      "tensor([1, 0, 0, 0, 0, 0, 0, 1, 1, 1, 1, 0, 1, 1, 1, 1])\n",
      "tensor([0, 1, 1, 1, 0, 1, 0, 0, 1, 0, 0, 0, 1, 0, 1, 0])\n",
      "tensor([0, 1, 0, 1, 0, 1, 1, 1, 0, 0, 0, 1, 1, 0, 1, 1])\n",
      "tensor([1, 0, 1, 0, 1, 0, 0, 0, 0, 1, 0, 0, 0, 1, 0, 0])\n",
      "tensor([0, 0, 0, 1, 0, 0, 0, 0, 0, 1, 0, 0, 1, 1, 0, 0])\n",
      "tensor([1, 0, 1, 0, 1, 0, 1, 0, 0, 1, 1, 0, 0, 1, 0, 1])\n",
      "tensor([1, 0, 1, 1, 0, 0, 0, 0, 0, 1, 0, 0, 1, 0, 0, 0])\n",
      "tensor([1, 1, 0, 0, 0, 1, 0, 1, 1, 1, 1, 0])\n"
     ]
    }
   ],
   "source": [
    "train_dataloader = DataLoader(train_dataset, batch_size=16, shuffle=True)\n",
    "val_dataloader = DataLoader(val_dataset, batch_size=16, shuffle=False)\n",
    "\n",
    "for inputs, labels in train_dataloader:\n",
    "    print(labels)"
   ]
  },
  {
   "cell_type": "code",
   "execution_count": 118,
   "id": "0d8d4c95-55e5-49d7-9b5d-506533935e5e",
   "metadata": {},
   "outputs": [
    {
     "name": "stdout",
     "output_type": "stream",
     "text": [
      "FujiNet1(\n",
      "  (pool): MaxPool3d(kernel_size=2, stride=2, padding=0, dilation=1, ceil_mode=False)\n",
      "  (conv1): Conv3d(1, 3, kernel_size=(3, 3, 3), stride=(1, 1, 1), padding=(1, 1, 1))\n",
      "  (conv2): Conv3d(3, 3, kernel_size=(3, 3, 3), stride=(1, 1, 1), padding=(1, 1, 1))\n",
      "  (conv3): Conv3d(3, 32, kernel_size=(3, 3, 3), stride=(1, 1, 1), padding=(1, 1, 1))\n",
      "  (conv4): Conv3d(32, 64, kernel_size=(3, 3, 3), stride=(1, 1, 1), padding=(1, 1, 1))\n",
      "  (fc1): Linear(in_features=64000, out_features=512, bias=True)\n",
      "  (fc2): Linear(in_features=512, out_features=2, bias=True)\n",
      "  (dropout): Dropout(p=0.5, inplace=False)\n",
      "  (batchnorm3d1): BatchNorm3d(3, eps=1e-05, momentum=0.1, affine=True, track_running_stats=True)\n",
      "  (batchnorm3d12): BatchNorm3d(3, eps=1e-05, momentum=0.1, affine=True, track_running_stats=True)\n",
      "  (batchnorm3d2): BatchNorm3d(32, eps=1e-05, momentum=0.1, affine=True, track_running_stats=True)\n",
      "  (batchnorm3d3): BatchNorm3d(64, eps=1e-05, momentum=0.1, affine=True, track_running_stats=True)\n",
      "  (batchnorm1): BatchNorm1d(512, eps=1e-05, momentum=0.1, affine=True, track_running_stats=True)\n",
      ")\n"
     ]
    }
   ],
   "source": [
    "#net = models.MyVgg16()\n",
    "net = models.FujiNet1()\n",
    "print(net)"
   ]
  },
  {
   "cell_type": "code",
   "execution_count": 119,
   "id": "4b15044a-b13b-4881-b2d0-5474e128cdad",
   "metadata": {},
   "outputs": [
    {
     "name": "stderr",
     "output_type": "stream",
     "text": [
      "/tmp/ipykernel_1885872/1588208921.py:1: UserWarning: nn.init.kaiming_normal is now deprecated in favor of nn.init.kaiming_normal_.\n",
      "  torch.nn.init.kaiming_normal(net.conv1.weight)\n",
      "/tmp/ipykernel_1885872/1588208921.py:2: UserWarning: nn.init.kaiming_normal is now deprecated in favor of nn.init.kaiming_normal_.\n",
      "  torch.nn.init.kaiming_normal(net.conv2.weight)\n",
      "/tmp/ipykernel_1885872/1588208921.py:3: UserWarning: nn.init.kaiming_normal is now deprecated in favor of nn.init.kaiming_normal_.\n",
      "  torch.nn.init.kaiming_normal(net.conv3.weight)\n",
      "/tmp/ipykernel_1885872/1588208921.py:4: UserWarning: nn.init.kaiming_normal is now deprecated in favor of nn.init.kaiming_normal_.\n",
      "  torch.nn.init.kaiming_normal(net.conv4.weight)\n",
      "/tmp/ipykernel_1885872/1588208921.py:5: UserWarning: nn.init.kaiming_normal is now deprecated in favor of nn.init.kaiming_normal_.\n",
      "  torch.nn.init.kaiming_normal(net.fc1.weight)\n",
      "/tmp/ipykernel_1885872/1588208921.py:6: UserWarning: nn.init.kaiming_normal is now deprecated in favor of nn.init.kaiming_normal_.\n",
      "  torch.nn.init.kaiming_normal(net.fc2.weight)\n"
     ]
    },
    {
     "data": {
      "text/plain": [
       "Parameter containing:\n",
       "tensor([[-0.1058,  0.0241,  0.1178,  ...,  0.0386, -0.0371,  0.1262],\n",
       "        [-0.0058,  0.0135,  0.0386,  ..., -0.0583,  0.0081, -0.0624]],\n",
       "       requires_grad=True)"
      ]
     },
     "execution_count": 119,
     "metadata": {},
     "output_type": "execute_result"
    }
   ],
   "source": [
    "torch.nn.init.kaiming_normal(net.conv1.weight)\n",
    "torch.nn.init.kaiming_normal(net.conv2.weight)\n",
    "torch.nn.init.kaiming_normal(net.conv3.weight)\n",
    "torch.nn.init.kaiming_normal(net.conv4.weight)\n",
    "torch.nn.init.kaiming_normal(net.fc1.weight)\n",
    "torch.nn.init.kaiming_normal(net.fc2.weight)"
   ]
  },
  {
   "cell_type": "code",
   "execution_count": 120,
   "id": "53df86e8-592f-4d2b-b5f9-6226e686e616",
   "metadata": {},
   "outputs": [],
   "source": [
    "criterion = nn.CrossEntropyLoss()\n",
    "#optimizer = optim.SGD(params=net.parameters(), lr=0.0005, momentum=0.9)\n",
    "optimizer = optim.Adam(params=net.parameters(), lr=0.001)"
   ]
  },
  {
   "cell_type": "code",
   "execution_count": 121,
   "id": "ec86e229-4c4a-4228-b8a4-550855c81568",
   "metadata": {},
   "outputs": [],
   "source": [
    "def train_model(net, train_dataloader, val_dataloader, criterion, optimizer, num_epochs):\n",
    "\n",
    "    device = torch.device(\"cuda\" if torch.cuda.is_available() else \"cpu\")\n",
    "    net.to(device)\n",
    "    print(\"Use divice = \", device)\n",
    "\n",
    "    for epoch in range(num_epochs):\n",
    "        # train\n",
    "        net.train()\n",
    "        loss_avg = 0.0\n",
    "        acc_avg = 0.0\n",
    "        for inputs, labels in train_dataloader:\n",
    "            inputs = inputs.to(device=device, dtype=torch.float)\n",
    "            labels = labels.to(device)\n",
    "\n",
    "            optimizer.zero_grad()\n",
    "\n",
    "            outputs = net(inputs)\n",
    "            loss = criterion(outputs, labels)\n",
    "\n",
    "            loss.backward()\n",
    "            optimizer.step()\n",
    "\n",
    "            _, preds = torch.max(outputs, 1)\n",
    "            acc_avg += torch.mean((preds == labels).float()).item() / len(train_dataloader)\n",
    "            loss_avg += loss.item() / len(train_dataloader)\n",
    "        train_losses.append(loss_avg)\n",
    "        train_accs.append(acc_avg)\n",
    "\n",
    "        # evaluate\n",
    "        loss_avg = 0.0 \n",
    "        acc_avg = 0.0\n",
    "        net.eval()\n",
    "        for inputs, labels in val_dataloader:\n",
    "            inputs = inputs.to(device=device, dtype=torch.float)\n",
    "            labels = labels.to(device)\n",
    "            with torch.no_grad():\n",
    "                outputs = net(inputs)\n",
    "                loss = criterion(outputs, labels)\n",
    "            \n",
    "            _, preds = torch.max(outputs, 1)\n",
    "            acc_avg += torch.mean((preds == labels).float()).item() / len(val_dataloader)\n",
    "            loss_avg += loss.item() / len(val_dataloader)\n",
    "\n",
    "        test_losses.append(loss_avg)\n",
    "        test_accs.append(acc_avg)\n",
    "        print(f\"EPOCH {epoch+1}  || train loss : {train_losses[epoch]:.4f}, test loss : {test_losses[epoch]:.4f} \\\n",
    "            || train acc : {train_accs[epoch]:.4f} || test acc : {test_accs[epoch]:.4f}\")"
   ]
  },
  {
   "cell_type": "code",
   "execution_count": 122,
   "id": "e3cf005b-17cb-43bf-af5b-de89efafef33",
   "metadata": {},
   "outputs": [
    {
     "name": "stdout",
     "output_type": "stream",
     "text": [
      "Use divice =  cuda\n"
     ]
    },
    {
     "ename": "RuntimeError",
     "evalue": "shape '[-1, 64000]' is invalid for input of size 1228800",
     "output_type": "error",
     "traceback": [
      "\u001b[0;31m---------------------------------------------------------------------------\u001b[0m",
      "\u001b[0;31mRuntimeError\u001b[0m                              Traceback (most recent call last)",
      "Input \u001b[0;32mIn [122]\u001b[0m, in \u001b[0;36m<cell line: 8>\u001b[0;34m()\u001b[0m\n\u001b[1;32m      5\u001b[0m train_accs \u001b[38;5;241m=\u001b[39m []\n\u001b[1;32m      6\u001b[0m test_accs \u001b[38;5;241m=\u001b[39m []\n\u001b[0;32m----> 8\u001b[0m \u001b[43mtrain_model\u001b[49m\u001b[43m(\u001b[49m\u001b[43mnet\u001b[49m\u001b[43m,\u001b[49m\u001b[43m \u001b[49m\u001b[43mtrain_dataloader\u001b[49m\u001b[43m,\u001b[49m\u001b[43m \u001b[49m\u001b[43mval_dataloader\u001b[49m\u001b[43m,\u001b[49m\u001b[43m \u001b[49m\u001b[43mcriterion\u001b[49m\u001b[43m,\u001b[49m\u001b[43m \u001b[49m\u001b[43moptimizer\u001b[49m\u001b[43m,\u001b[49m\u001b[43m \u001b[49m\u001b[43mnum_epochs\u001b[49m\u001b[43m)\u001b[49m\n",
      "Input \u001b[0;32mIn [121]\u001b[0m, in \u001b[0;36mtrain_model\u001b[0;34m(net, train_dataloader, val_dataloader, criterion, optimizer, num_epochs)\u001b[0m\n\u001b[1;32m     14\u001b[0m labels \u001b[38;5;241m=\u001b[39m labels\u001b[38;5;241m.\u001b[39mto(device)\n\u001b[1;32m     16\u001b[0m optimizer\u001b[38;5;241m.\u001b[39mzero_grad()\n\u001b[0;32m---> 18\u001b[0m outputs \u001b[38;5;241m=\u001b[39m \u001b[43mnet\u001b[49m\u001b[43m(\u001b[49m\u001b[43minputs\u001b[49m\u001b[43m)\u001b[49m\n\u001b[1;32m     19\u001b[0m loss \u001b[38;5;241m=\u001b[39m criterion(outputs, labels)\n\u001b[1;32m     21\u001b[0m loss\u001b[38;5;241m.\u001b[39mbackward()\n",
      "File \u001b[0;32m~/.pyenv/versions/3.8.8/envs/brain/lib/python3.8/site-packages/torch/nn/modules/module.py:1102\u001b[0m, in \u001b[0;36mModule._call_impl\u001b[0;34m(self, *input, **kwargs)\u001b[0m\n\u001b[1;32m   1098\u001b[0m \u001b[38;5;66;03m# If we don't have any hooks, we want to skip the rest of the logic in\u001b[39;00m\n\u001b[1;32m   1099\u001b[0m \u001b[38;5;66;03m# this function, and just call forward.\u001b[39;00m\n\u001b[1;32m   1100\u001b[0m \u001b[38;5;28;01mif\u001b[39;00m \u001b[38;5;129;01mnot\u001b[39;00m (\u001b[38;5;28mself\u001b[39m\u001b[38;5;241m.\u001b[39m_backward_hooks \u001b[38;5;129;01mor\u001b[39;00m \u001b[38;5;28mself\u001b[39m\u001b[38;5;241m.\u001b[39m_forward_hooks \u001b[38;5;129;01mor\u001b[39;00m \u001b[38;5;28mself\u001b[39m\u001b[38;5;241m.\u001b[39m_forward_pre_hooks \u001b[38;5;129;01mor\u001b[39;00m _global_backward_hooks\n\u001b[1;32m   1101\u001b[0m         \u001b[38;5;129;01mor\u001b[39;00m _global_forward_hooks \u001b[38;5;129;01mor\u001b[39;00m _global_forward_pre_hooks):\n\u001b[0;32m-> 1102\u001b[0m     \u001b[38;5;28;01mreturn\u001b[39;00m \u001b[43mforward_call\u001b[49m\u001b[43m(\u001b[49m\u001b[38;5;241;43m*\u001b[39;49m\u001b[38;5;28;43minput\u001b[39;49m\u001b[43m,\u001b[49m\u001b[43m \u001b[49m\u001b[38;5;241;43m*\u001b[39;49m\u001b[38;5;241;43m*\u001b[39;49m\u001b[43mkwargs\u001b[49m\u001b[43m)\u001b[49m\n\u001b[1;32m   1103\u001b[0m \u001b[38;5;66;03m# Do not call functions when jit is used\u001b[39;00m\n\u001b[1;32m   1104\u001b[0m full_backward_hooks, non_full_backward_hooks \u001b[38;5;241m=\u001b[39m [], []\n",
      "File \u001b[0;32m~/brain/models/models.py:98\u001b[0m, in \u001b[0;36mFujiNet1.forward\u001b[0;34m(self, x)\u001b[0m\n\u001b[1;32m     96\u001b[0m x \u001b[38;5;241m=\u001b[39m F\u001b[38;5;241m.\u001b[39mrelu(\u001b[38;5;28mself\u001b[39m\u001b[38;5;241m.\u001b[39mbatchnorm3d3(\u001b[38;5;28mself\u001b[39m\u001b[38;5;241m.\u001b[39mconv4(x)))\n\u001b[1;32m     97\u001b[0m x \u001b[38;5;241m=\u001b[39m \u001b[38;5;28mself\u001b[39m\u001b[38;5;241m.\u001b[39mpool(x)\n\u001b[0;32m---> 98\u001b[0m x \u001b[38;5;241m=\u001b[39m \u001b[43mx\u001b[49m\u001b[38;5;241;43m.\u001b[39;49m\u001b[43mview\u001b[49m\u001b[43m(\u001b[49m\u001b[38;5;241;43m-\u001b[39;49m\u001b[38;5;241;43m1\u001b[39;49m\u001b[43m,\u001b[49m\u001b[43m \u001b[49m\u001b[38;5;241;43m10\u001b[39;49m\u001b[43m \u001b[49m\u001b[38;5;241;43m*\u001b[39;49m\u001b[43m \u001b[49m\u001b[38;5;241;43m10\u001b[39;49m\u001b[43m \u001b[49m\u001b[38;5;241;43m*\u001b[39;49m\u001b[43m \u001b[49m\u001b[38;5;241;43m10\u001b[39;49m\u001b[43m \u001b[49m\u001b[38;5;241;43m*\u001b[39;49m\u001b[43m \u001b[49m\u001b[38;5;241;43m64\u001b[39;49m\u001b[43m)\u001b[49m\n\u001b[1;32m     99\u001b[0m x \u001b[38;5;241m=\u001b[39m \u001b[38;5;28mself\u001b[39m\u001b[38;5;241m.\u001b[39mdropout(x)\n\u001b[1;32m    100\u001b[0m x \u001b[38;5;241m=\u001b[39m F\u001b[38;5;241m.\u001b[39mrelu(\u001b[38;5;28mself\u001b[39m\u001b[38;5;241m.\u001b[39mbatchnorm1(\u001b[38;5;28mself\u001b[39m\u001b[38;5;241m.\u001b[39mfc1(x)))\n",
      "\u001b[0;31mRuntimeError\u001b[0m: shape '[-1, 64000]' is invalid for input of size 1228800"
     ]
    }
   ],
   "source": [
    "num_epochs = 100\n",
    "\n",
    "train_losses = []\n",
    "test_losses = []\n",
    "train_accs = []\n",
    "test_accs = []\n",
    "\n",
    "train_model(net, train_dataloader, val_dataloader, criterion, optimizer, num_epochs)"
   ]
  },
  {
   "cell_type": "code",
   "execution_count": null,
   "id": "67f902da-b340-4750-9eb3-7c444b16bdac",
   "metadata": {},
   "outputs": [],
   "source": [
    "plt.plot(range(100), train_losses, label=\"train loss\")\n",
    "plt.plot(range(100), test_losses, label=\"test loss\")\n",
    "plt.title(\"Loss\")\n",
    "plt.xlabel(\"Epoch\")\n",
    "plt.ylabel(\"Loss\")\n",
    "plt.legend()"
   ]
  },
  {
   "cell_type": "code",
   "execution_count": null,
   "id": "cc5d5cd7-3752-47f6-965b-b71bbc36635a",
   "metadata": {},
   "outputs": [],
   "source": []
  },
  {
   "cell_type": "code",
   "execution_count": null,
   "id": "2748785b-a3ac-4e33-ac2c-6bff5305a0c7",
   "metadata": {},
   "outputs": [],
   "source": []
  },
  {
   "cell_type": "code",
   "execution_count": null,
   "id": "cfc9088c-6c94-4692-bc61-2a22d2b0784f",
   "metadata": {},
   "outputs": [],
   "source": []
  },
  {
   "cell_type": "code",
   "execution_count": null,
   "id": "35d73827-4cdd-449a-9452-9d2f56f29982",
   "metadata": {},
   "outputs": [],
   "source": []
  },
  {
   "cell_type": "code",
   "execution_count": null,
   "id": "4be67327-fd90-4e46-b487-c4a660ec8e7b",
   "metadata": {},
   "outputs": [],
   "source": []
  },
  {
   "cell_type": "code",
   "execution_count": null,
   "id": "db82372f-0507-4eb7-9b63-eec384517ebf",
   "metadata": {},
   "outputs": [],
   "source": []
  },
  {
   "cell_type": "code",
   "execution_count": null,
   "id": "f4e98731-9f03-4fc5-a3f7-64dd69666db4",
   "metadata": {},
   "outputs": [],
   "source": []
  },
  {
   "cell_type": "code",
   "execution_count": null,
   "id": "957937cc-ad07-4a61-a5d3-b4fe2c671a61",
   "metadata": {},
   "outputs": [],
   "source": []
  },
  {
   "cell_type": "code",
   "execution_count": null,
   "id": "ec9028c5-cb7b-46f9-99c9-609fb7009527",
   "metadata": {},
   "outputs": [],
   "source": []
  },
  {
   "cell_type": "code",
   "execution_count": null,
   "id": "90ac3986-8c20-4888-a06a-cc5571fa9cd3",
   "metadata": {},
   "outputs": [],
   "source": []
  },
  {
   "cell_type": "code",
   "execution_count": null,
   "id": "4d978a24-293e-49f9-8c5f-23df5b03fa20",
   "metadata": {},
   "outputs": [],
   "source": []
  },
  {
   "cell_type": "code",
   "execution_count": null,
   "id": "f615bc95-bc59-4033-8839-92b33af97940",
   "metadata": {},
   "outputs": [],
   "source": []
  },
  {
   "cell_type": "code",
   "execution_count": null,
   "id": "d453e850-68c8-4157-be3f-ca2b6582d86c",
   "metadata": {},
   "outputs": [],
   "source": []
  },
  {
   "cell_type": "code",
   "execution_count": null,
   "id": "f5b705e2-6567-44b8-a637-849e5970f6f9",
   "metadata": {},
   "outputs": [],
   "source": []
  },
  {
   "cell_type": "code",
   "execution_count": null,
   "id": "439a9d9f-ae16-4e1b-b1bc-807db56d6c5d",
   "metadata": {},
   "outputs": [],
   "source": []
  },
  {
   "cell_type": "code",
   "execution_count": null,
   "id": "5e240c7b-00a2-46a7-b1ac-f58ac5e60d85",
   "metadata": {},
   "outputs": [],
   "source": []
  },
  {
   "cell_type": "code",
   "execution_count": null,
   "id": "354a39b1-f44a-4189-9eb1-4847996101c2",
   "metadata": {},
   "outputs": [],
   "source": []
  },
  {
   "cell_type": "code",
   "execution_count": null,
   "id": "178d0098-033e-4e35-9dda-13913cfb5c46",
   "metadata": {},
   "outputs": [],
   "source": []
  },
  {
   "cell_type": "code",
   "execution_count": null,
   "id": "4dc86a09-48c3-477a-a529-c36a69d09a8a",
   "metadata": {},
   "outputs": [],
   "source": []
  },
  {
   "cell_type": "code",
   "execution_count": null,
   "id": "fc5cff54-2f90-41c6-9348-ccf86599f83f",
   "metadata": {},
   "outputs": [],
   "source": []
  },
  {
   "cell_type": "code",
   "execution_count": null,
   "id": "f3dd081a-761e-42fb-922b-e30392277907",
   "metadata": {},
   "outputs": [],
   "source": []
  }
 ],
 "metadata": {
  "kernelspec": {
   "display_name": "Python 3 (ipykernel)",
   "language": "python",
   "name": "python3"
  },
  "language_info": {
   "codemirror_mode": {
    "name": "ipython",
    "version": 3
   },
   "file_extension": ".py",
   "mimetype": "text/x-python",
   "name": "python",
   "nbconvert_exporter": "python",
   "pygments_lexer": "ipython3",
   "version": "3.8.8"
  }
 },
 "nbformat": 4,
 "nbformat_minor": 5
}
